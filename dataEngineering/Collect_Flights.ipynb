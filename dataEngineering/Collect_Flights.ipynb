{
 "cells": [
  {
   "cell_type": "markdown",
   "id": "e905f880",
   "metadata": {},
   "source": [
    "## Collecting Flights data"
   ]
  },
  {
   "cell_type": "code",
   "execution_count": null,
   "id": "b6dfc88f",
   "metadata": {},
   "outputs": [],
   "source": [
    "import requests\n",
    "import json\n",
    "from IPython.display import JSON\n",
    "from keys import *"
   ]
  },
  {
   "cell_type": "code",
   "execution_count": 16,
   "id": "02e8fb1c",
   "metadata": {},
   "outputs": [],
   "source": [
    "\n",
    "#be careful not to run too often as there is a maximum of 200 api calls per month\n",
    "\n",
    "url = \"https://aerodatabox.p.rapidapi.com/flights/airports/icao/EDDB/2025-09-01T08:00/2025-09-01T20:00\"\n",
    "\n",
    "querystring = {\"withLeg\":\"true\",\"direction\":\"Arrival\",\"withCancelled\":\"true\",\"withCodeshared\":\"true\",\"withCargo\":\"true\",\"withPrivate\":\"true\",\"withLocation\":\"false\"}\n",
    "\n",
    "headers = {\n",
    "    'x-rapidapi-host': \"aerodatabox.p.rapidapi.com\",\n",
    "    'x-rapidapi-key': flights_key\n",
    "    }\n",
    "\n",
    "response = requests.request(\"GET\", url, headers=headers, params=querystring)"
   ]
  },
  {
   "cell_type": "code",
   "execution_count": 18,
   "id": "fae12d20",
   "metadata": {},
   "outputs": [
    {
     "name": "stdout",
     "output_type": "stream",
     "text": [
      "Data appended to data.json file.\n"
     ]
    }
   ],
   "source": [
    "if response.status_code == 200:\n",
    "    new_data = response.json()\n",
    "\n",
    "    try:\n",
    "        with open(\"data.json\", \"r\") as json_file:\n",
    "            existing_data = json.load(json_file)\n",
    "    except (FileNotFoundError, json.decoder.JSONDecodeError):\n",
    "        existing_data = []\n",
    "\n",
    "    existing_data.append(new_data)\n",
    "\n",
    "    with open(\"data.json\", \"w\") as json_file:\n",
    "        json.dump(existing_data, json_file, indent=4)\n",
    "        print(\"Data appended to data.json file.\")\n",
    "else:\n",
    "    print(\"Failed to retrieve data from the API. Status code:\", response.status_code)"
   ]
  },
  {
   "cell_type": "code",
   "execution_count": 19,
   "id": "88ddd5ac",
   "metadata": {},
   "outputs": [],
   "source": [
    "flight_arrivals = response.json()\n",
    "\n",
    "for flight in flight_arrivals:\n",
    "    flight_arrivals['arrivals'][0]['arrival']['scheduledTime']\n",
    "    flight_arrivals['arrivals'][0]['number']\n",
    "    flight_arrivals['arrivals'][0]['arrival']['terminal']\n",
    "    flight_arrivals['arrivals'][0]['departure']['airport']['name']\n",
    "    flight_arrivals['arrivals'][0]['aircraft']['model']\n",
    "    flight_arrivals['arrivals'][0]['airline']['name']"
   ]
  },
  {
   "cell_type": "code",
   "execution_count": 21,
   "id": "676d3847",
   "metadata": {},
   "outputs": [
    {
     "data": {
      "text/html": [
       "<div>\n",
       "<style scoped>\n",
       "    .dataframe tbody tr th:only-of-type {\n",
       "        vertical-align: middle;\n",
       "    }\n",
       "\n",
       "    .dataframe tbody tr th {\n",
       "        vertical-align: top;\n",
       "    }\n",
       "\n",
       "    .dataframe thead th {\n",
       "        text-align: right;\n",
       "    }\n",
       "</style>\n",
       "<table border=\"1\" class=\"dataframe\">\n",
       "  <thead>\n",
       "    <tr style=\"text-align: right;\">\n",
       "      <th></th>\n",
       "      <th>flight_number</th>\n",
       "      <th>from</th>\n",
       "      <th>airline</th>\n",
       "      <th>aircraft</th>\n",
       "      <th>Scheduled_arrival_time.utc</th>\n",
       "      <th>Scheduled_arrival_time.local</th>\n",
       "    </tr>\n",
       "  </thead>\n",
       "  <tbody>\n",
       "    <tr>\n",
       "      <th>0</th>\n",
       "      <td>DE 4095</td>\n",
       "      <td>Frankfurt-am-Main</td>\n",
       "      <td>Condor</td>\n",
       "      <td>Airbus A320</td>\n",
       "      <td>2025-09-01 05:55Z</td>\n",
       "      <td>2025-09-01 07:55+02:00</td>\n",
       "    </tr>\n",
       "    <tr>\n",
       "      <th>0</th>\n",
       "      <td>DE 2501</td>\n",
       "      <td>Dubai</td>\n",
       "      <td>Condor</td>\n",
       "      <td>Airbus A320 NEO</td>\n",
       "      <td>2025-09-01 06:25Z</td>\n",
       "      <td>2025-09-01 08:25+02:00</td>\n",
       "    </tr>\n",
       "    <tr>\n",
       "      <th>0</th>\n",
       "      <td>PC 5067</td>\n",
       "      <td>Antalya</td>\n",
       "      <td>Pegasus</td>\n",
       "      <td>Airbus A320 (Sharklets)</td>\n",
       "      <td>2025-09-01 06:35Z</td>\n",
       "      <td>2025-09-01 08:35+02:00</td>\n",
       "    </tr>\n",
       "    <tr>\n",
       "      <th>0</th>\n",
       "      <td>AY 1431</td>\n",
       "      <td>Helsinki</td>\n",
       "      <td>Finnair</td>\n",
       "      <td>Airbus A319</td>\n",
       "      <td>2025-09-01 06:05Z</td>\n",
       "      <td>2025-09-01 08:05+02:00</td>\n",
       "    </tr>\n",
       "    <tr>\n",
       "      <th>0</th>\n",
       "      <td>JL 6899</td>\n",
       "      <td>Helsinki</td>\n",
       "      <td>JL</td>\n",
       "      <td>Airbus A319</td>\n",
       "      <td>2025-09-01 06:05Z</td>\n",
       "      <td>2025-09-01 08:05+02:00</td>\n",
       "    </tr>\n",
       "  </tbody>\n",
       "</table>\n",
       "</div>"
      ],
      "text/plain": [
       "  flight_number               from  airline                 aircraft  \\\n",
       "0       DE 4095  Frankfurt-am-Main   Condor              Airbus A320   \n",
       "0       DE 2501              Dubai   Condor          Airbus A320 NEO   \n",
       "0       PC 5067            Antalya  Pegasus  Airbus A320 (Sharklets)   \n",
       "0       AY 1431           Helsinki  Finnair              Airbus A319   \n",
       "0       JL 6899           Helsinki       JL              Airbus A319   \n",
       "\n",
       "  Scheduled_arrival_time.utc Scheduled_arrival_time.local  \n",
       "0          2025-09-01 05:55Z       2025-09-01 07:55+02:00  \n",
       "0          2025-09-01 06:25Z       2025-09-01 08:25+02:00  \n",
       "0          2025-09-01 06:35Z       2025-09-01 08:35+02:00  \n",
       "0          2025-09-01 06:05Z       2025-09-01 08:05+02:00  \n",
       "0          2025-09-01 06:05Z       2025-09-01 08:05+02:00  "
      ]
     },
     "execution_count": 21,
     "metadata": {},
     "output_type": "execute_result"
    }
   ],
   "source": [
    "import pandas as pd\n",
    "from numpy import nan\n",
    "\n",
    "flight_arrivals = response.json()\n",
    "\n",
    "def flight_extraction(flights):\n",
    "    flights_df = pd.json_normalize({\n",
    "        'Scheduled_arrival_time': flights['arrival']['scheduledTime'],\n",
    "        'flight_number': flights['number'],\n",
    "        'from' : flights['departure']['airport']['name'],\n",
    "        'airline' : flights['airline']['name'],\n",
    "        'aircraft' : flights['aircraft']['model']\n",
    "    })\n",
    "    return(flights_df)\n",
    "\n",
    "flight_arrivals = pd.concat(\n",
    "    [flight_extraction(flight) for flight in flight_arrivals['arrivals']]\n",
    ")\n",
    "\n",
    "flight_arrivals.head()"
   ]
  },
  {
   "cell_type": "code",
   "execution_count": null,
   "id": "bdc76335",
   "metadata": {},
   "outputs": [],
   "source": []
  }
 ],
 "metadata": {
  "kernelspec": {
   "display_name": "Python 3",
   "language": "python",
   "name": "python3"
  },
  "language_info": {
   "codemirror_mode": {
    "name": "ipython",
    "version": 3
   },
   "file_extension": ".py",
   "mimetype": "text/x-python",
   "name": "python",
   "nbconvert_exporter": "python",
   "pygments_lexer": "ipython3",
   "version": "3.13.1"
  }
 },
 "nbformat": 4,
 "nbformat_minor": 5
}
