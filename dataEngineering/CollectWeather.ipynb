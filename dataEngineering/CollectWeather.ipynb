{
 "cells": [
  {
   "cell_type": "markdown",
   "id": "07d07c95",
   "metadata": {},
   "source": [
    "# Collecting weather data from an API"
   ]
  },
  {
   "cell_type": "code",
   "execution_count": 1,
   "id": "d02f4c52",
   "metadata": {},
   "outputs": [],
   "source": [
    "import requests\n",
    "import pandas as pd\n",
    "import numpy as np\n",
    "from keys import *\n",
    "\n",
    "city = \"Berlin\"\n",
    "country = \"DE\"\n",
    "response = requests.get(f'http://api.openweathermap.org/data/2.5/forecast/?q={city},{country}&appid={OWM_key}&units=metric&lang=en')"
   ]
  },
  {
   "cell_type": "code",
   "execution_count": 17,
   "id": "944a3e11",
   "metadata": {},
   "outputs": [
    {
     "name": "stdout",
     "output_type": "stream",
     "text": [
      "      weather_datetime  temperature  humidity weather_status  wind  rain_qty  \\\n",
      "0  2025-10-29 21:00:00         9.61        87          Clear  4.14       NaN   \n",
      "1  2025-10-30 00:00:00         9.51        83         Clouds  4.46       NaN   \n",
      "2  2025-10-30 03:00:00         9.84        83           Rain  4.10      0.37   \n",
      "3  2025-10-30 06:00:00        10.94        80           Rain  7.48      2.95   \n",
      "4  2025-10-30 09:00:00        12.28        83           Rain  9.01      3.41   \n",
      "\n",
      "   snow municipality_iso_country  \n",
      "0   NaN                Berlin,DE  \n",
      "1   NaN                Berlin,DE  \n",
      "2   NaN                Berlin,DE  \n",
      "3   NaN                Berlin,DE  \n",
      "4   NaN                Berlin,DE  \n"
     ]
    }
   ],
   "source": [
    "data = response.json()\n",
    "\n",
    "# Extract forecast list\n",
    "forecast_list = data.get('list', [])\n",
    "\n",
    "# Prepare lists for DataFrame columns\n",
    "times = []\n",
    "temperatures = []\n",
    "humidities = []\n",
    "weather_statuses = []\n",
    "wind_speeds = []\n",
    "rain_volumes = []\n",
    "snow_volumes = []\n",
    "\n",
    "for entry in forecast_list:\n",
    "    times.append(entry.get('dt_txt', np.nan))\n",
    "    temperatures.append(entry.get('main', {}).get('temp', np.nan))\n",
    "    humidities.append(entry.get('main', {}).get('humidity', np.nan))\n",
    "    weather_statuses.append(entry.get('weather', [{}])[0].get('main', np.nan))\n",
    "    wind_speeds.append(entry.get('wind', {}).get('speed', np.nan))\n",
    "    rain_volumes.append(entry.get('rain', {}).get('3h', np.nan))\n",
    "    snow_volumes.append(entry.get('snow', {}).get('3h', np.nan))\n",
    "\n",
    "# Create DataFrame\n",
    "df = pd.DataFrame({\n",
    "    'weather_datetime': times,\n",
    "    'temperature': temperatures,\n",
    "    'humidity': humidities,\n",
    "    'weather_status': weather_statuses,\n",
    "    'wind': wind_speeds,\n",
    "    'rain_qty': rain_volumes,\n",
    "    'snow': snow_volumes,\n",
    "    'municipality_iso_country': f\"Berlin,DE\"\n",
    "})\n",
    "\n",
    "print(df.head())"
   ]
  },
  {
   "cell_type": "code",
   "execution_count": 18,
   "id": "9eed9a45",
   "metadata": {},
   "outputs": [],
   "source": [
    "import sqlalchemy\n",
    "import pymysql\n",
    "# connection details for the local mysql database\n",
    "schema = \"gans\"\n",
    "host = \"127.0.0.1\"\n",
    "user = \"root\"\n",
    "password = \"Vimaro77\"\n",
    "port = 3306\n",
    "con = f'mysql+pymysql://{user}:{password}@{host}:{port}/{schema}'"
   ]
  },
  {
   "cell_type": "code",
   "execution_count": null,
   "id": "dd4105d9",
   "metadata": {},
   "outputs": [
    {
     "data": {
      "text/plain": [
       "40"
      ]
     },
     "execution_count": 19,
     "metadata": {},
     "output_type": "execute_result"
    }
   ],
   "source": [
    "# send the weather data to the database\n",
    "df.to_sql('weather_data', if_exists = 'append', con = con, index=False)"
   ]
  }
 ],
 "metadata": {
  "kernelspec": {
   "display_name": "Python 3",
   "language": "python",
   "name": "python3"
  },
  "language_info": {
   "codemirror_mode": {
    "name": "ipython",
    "version": 3
   },
   "file_extension": ".py",
   "mimetype": "text/x-python",
   "name": "python",
   "nbconvert_exporter": "python",
   "pygments_lexer": "ipython3",
   "version": "3.13.9"
  }
 },
 "nbformat": 4,
 "nbformat_minor": 5
}
